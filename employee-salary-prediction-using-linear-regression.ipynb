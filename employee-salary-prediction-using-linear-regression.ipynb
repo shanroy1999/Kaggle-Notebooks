{
 "cells": [
  {
   "cell_type": "code",
   "execution_count": 1,
   "metadata": {
    "_cell_guid": "b1076dfc-b9ad-4769-8c92-a6c4dae69d19",
    "_uuid": "8f2839f25d086af736a60e9eeb907d3b93b6e0e5",
    "execution": {
     "iopub.execute_input": "2021-02-15T09:18:18.052491Z",
     "iopub.status.busy": "2021-02-15T09:18:18.051569Z",
     "iopub.status.idle": "2021-02-15T09:18:18.061107Z",
     "shell.execute_reply": "2021-02-15T09:18:18.060433Z"
    },
    "papermill": {
     "duration": 0.026675,
     "end_time": "2021-02-15T09:18:18.061337",
     "exception": false,
     "start_time": "2021-02-15T09:18:18.034662",
     "status": "completed"
    },
    "tags": []
   },
   "outputs": [
    {
     "name": "stdout",
     "output_type": "stream",
     "text": [
      "/kaggle/input/salary/Salary.csv\n"
     ]
    }
   ],
   "source": [
    "# This Python 3 environment comes with many helpful analytics libraries installed\n",
    "# It is defined by the kaggle/python Docker image: https://github.com/kaggle/docker-python\n",
    "# For example, here's several helpful packages to load\n",
    "\n",
    "import numpy as np # linear algebra\n",
    "import pandas as pd # data processing, CSV file I/O (e.g. pd.read_csv)\n",
    "\n",
    "# Input data files are available in the read-only \"../input/\" directory\n",
    "# For example, running this (by clicking run or pressing Shift+Enter) will list all files under the input directory\n",
    "\n",
    "import os\n",
    "for dirname, _, filenames in os.walk('/kaggle/input'):\n",
    "    for filename in filenames:\n",
    "        print(os.path.join(dirname, filename))\n",
    "\n",
    "# You can write up to 20GB to the current directory (/kaggle/working/) that gets preserved as output when you create a version using \"Save & Run All\" \n",
    "# You can also write temporary files to /kaggle/temp/, but they won't be saved outside of the current session"
   ]
  },
  {
   "cell_type": "code",
   "execution_count": 2,
   "metadata": {
    "execution": {
     "iopub.execute_input": "2021-02-15T09:18:18.086417Z",
     "iopub.status.busy": "2021-02-15T09:18:18.085743Z",
     "iopub.status.idle": "2021-02-15T09:18:19.157726Z",
     "shell.execute_reply": "2021-02-15T09:18:19.158250Z"
    },
    "papermill": {
     "duration": 1.08666,
     "end_time": "2021-02-15T09:18:19.158441",
     "exception": false,
     "start_time": "2021-02-15T09:18:18.071781",
     "status": "completed"
    },
    "tags": []
   },
   "outputs": [],
   "source": [
    "import matplotlib.pyplot as plt\n",
    "from sklearn.linear_model import LinearRegression"
   ]
  },
  {
   "cell_type": "code",
   "execution_count": 3,
   "metadata": {
    "execution": {
     "iopub.execute_input": "2021-02-15T09:18:19.181587Z",
     "iopub.status.busy": "2021-02-15T09:18:19.180928Z",
     "iopub.status.idle": "2021-02-15T09:18:19.216623Z",
     "shell.execute_reply": "2021-02-15T09:18:19.217129Z"
    },
    "papermill": {
     "duration": 0.04897,
     "end_time": "2021-02-15T09:18:19.217312",
     "exception": false,
     "start_time": "2021-02-15T09:18:19.168342",
     "status": "completed"
    },
    "tags": []
   },
   "outputs": [
    {
     "data": {
      "text/html": [
       "<div>\n",
       "<style scoped>\n",
       "    .dataframe tbody tr th:only-of-type {\n",
       "        vertical-align: middle;\n",
       "    }\n",
       "\n",
       "    .dataframe tbody tr th {\n",
       "        vertical-align: top;\n",
       "    }\n",
       "\n",
       "    .dataframe thead th {\n",
       "        text-align: right;\n",
       "    }\n",
       "</style>\n",
       "<table border=\"1\" class=\"dataframe\">\n",
       "  <thead>\n",
       "    <tr style=\"text-align: right;\">\n",
       "      <th></th>\n",
       "      <th>YearsExperience</th>\n",
       "      <th>Salary</th>\n",
       "    </tr>\n",
       "  </thead>\n",
       "  <tbody>\n",
       "    <tr>\n",
       "      <th>0</th>\n",
       "      <td>1.1</td>\n",
       "      <td>39343</td>\n",
       "    </tr>\n",
       "    <tr>\n",
       "      <th>1</th>\n",
       "      <td>1.3</td>\n",
       "      <td>46205</td>\n",
       "    </tr>\n",
       "    <tr>\n",
       "      <th>2</th>\n",
       "      <td>1.5</td>\n",
       "      <td>37731</td>\n",
       "    </tr>\n",
       "    <tr>\n",
       "      <th>3</th>\n",
       "      <td>2.0</td>\n",
       "      <td>43525</td>\n",
       "    </tr>\n",
       "    <tr>\n",
       "      <th>4</th>\n",
       "      <td>2.2</td>\n",
       "      <td>39891</td>\n",
       "    </tr>\n",
       "  </tbody>\n",
       "</table>\n",
       "</div>"
      ],
      "text/plain": [
       "   YearsExperience  Salary\n",
       "0              1.1   39343\n",
       "1              1.3   46205\n",
       "2              1.5   37731\n",
       "3              2.0   43525\n",
       "4              2.2   39891"
      ]
     },
     "execution_count": 3,
     "metadata": {},
     "output_type": "execute_result"
    }
   ],
   "source": [
    "df = pd.read_csv('/kaggle/input/salary/Salary.csv')\n",
    "df.head()"
   ]
  },
  {
   "cell_type": "markdown",
   "metadata": {
    "papermill": {
     "duration": 0.010208,
     "end_time": "2021-02-15T09:18:19.238420",
     "exception": false,
     "start_time": "2021-02-15T09:18:19.228212",
     "status": "completed"
    },
    "tags": []
   },
   "source": [
    "### Split the dataset into Independent(X) and Dependent(y) Variables"
   ]
  },
  {
   "cell_type": "code",
   "execution_count": 4,
   "metadata": {
    "execution": {
     "iopub.execute_input": "2021-02-15T09:18:19.263084Z",
     "iopub.status.busy": "2021-02-15T09:18:19.262455Z",
     "iopub.status.idle": "2021-02-15T09:18:19.270452Z",
     "shell.execute_reply": "2021-02-15T09:18:19.269932Z"
    },
    "papermill": {
     "duration": 0.021754,
     "end_time": "2021-02-15T09:18:19.270596",
     "exception": false,
     "start_time": "2021-02-15T09:18:19.248842",
     "status": "completed"
    },
    "tags": []
   },
   "outputs": [
    {
     "data": {
      "text/plain": [
       "array([[ 1.1],\n",
       "       [ 1.3],\n",
       "       [ 1.5],\n",
       "       [ 2. ],\n",
       "       [ 2.2],\n",
       "       [ 2.9],\n",
       "       [ 3. ],\n",
       "       [ 3.2],\n",
       "       [ 3.2],\n",
       "       [ 3.7],\n",
       "       [ 3.9],\n",
       "       [ 4. ],\n",
       "       [ 4. ],\n",
       "       [ 4.1],\n",
       "       [ 4.5],\n",
       "       [ 4.9],\n",
       "       [ 5.1],\n",
       "       [ 5.3],\n",
       "       [ 5.9],\n",
       "       [ 6. ],\n",
       "       [ 6.8],\n",
       "       [ 7.1],\n",
       "       [ 7.9],\n",
       "       [ 8.2],\n",
       "       [ 8.7],\n",
       "       [ 9. ],\n",
       "       [ 9.5],\n",
       "       [ 9.6],\n",
       "       [10.3],\n",
       "       [10.5],\n",
       "       [11.2],\n",
       "       [11.5],\n",
       "       [12.3],\n",
       "       [12.9],\n",
       "       [13.5]])"
      ]
     },
     "execution_count": 4,
     "metadata": {},
     "output_type": "execute_result"
    }
   ],
   "source": [
    "X = df.iloc[:, :-1].values    # Features => Years of experience => Independent Variable\n",
    "y = df.iloc[:, -1].values     # Target => Salary => Dependent Variable\n",
    "\n",
    "X"
   ]
  },
  {
   "cell_type": "code",
   "execution_count": 5,
   "metadata": {
    "execution": {
     "iopub.execute_input": "2021-02-15T09:18:19.298044Z",
     "iopub.status.busy": "2021-02-15T09:18:19.297139Z",
     "iopub.status.idle": "2021-02-15T09:18:19.300770Z",
     "shell.execute_reply": "2021-02-15T09:18:19.301346Z"
    },
    "papermill": {
     "duration": 0.020202,
     "end_time": "2021-02-15T09:18:19.301510",
     "exception": false,
     "start_time": "2021-02-15T09:18:19.281308",
     "status": "completed"
    },
    "tags": []
   },
   "outputs": [
    {
     "data": {
      "text/plain": [
       "array([ 39343,  46205,  37731,  43525,  39891,  56642,  60150,  54445,\n",
       "        64445,  57189,  63218,  55794,  56957,  57081,  61111,  67938,\n",
       "        66029,  83088,  81363,  93940,  91738,  98273, 101302, 113812,\n",
       "       109431, 105582, 116969, 112635, 122391, 121872, 127345, 126756,\n",
       "       128765, 135675, 139465])"
      ]
     },
     "execution_count": 5,
     "metadata": {},
     "output_type": "execute_result"
    }
   ],
   "source": [
    "y"
   ]
  },
  {
   "cell_type": "markdown",
   "metadata": {
    "papermill": {
     "duration": 0.010882,
     "end_time": "2021-02-15T09:18:19.323506",
     "exception": false,
     "start_time": "2021-02-15T09:18:19.312624",
     "status": "completed"
    },
    "tags": []
   },
   "source": [
    "### Divide the complete dataset into training and testing data"
   ]
  },
  {
   "cell_type": "code",
   "execution_count": 6,
   "metadata": {
    "execution": {
     "iopub.execute_input": "2021-02-15T09:18:19.349866Z",
     "iopub.status.busy": "2021-02-15T09:18:19.348911Z",
     "iopub.status.idle": "2021-02-15T09:18:19.354733Z",
     "shell.execute_reply": "2021-02-15T09:18:19.355323Z"
    },
    "papermill": {
     "duration": 0.020737,
     "end_time": "2021-02-15T09:18:19.355511",
     "exception": false,
     "start_time": "2021-02-15T09:18:19.334774",
     "status": "completed"
    },
    "tags": []
   },
   "outputs": [],
   "source": [
    "# divide the dataset in some amount of training and testing data\n",
    "from sklearn.model_selection import train_test_split\n",
    "\n",
    "# random_state => seed value used by random number generator\n",
    "X_train, X_test, y_train, y_test = train_test_split(X, y, test_size=0.3, random_state=0)"
   ]
  },
  {
   "cell_type": "markdown",
   "metadata": {
    "papermill": {
     "duration": 0.011197,
     "end_time": "2021-02-15T09:18:19.377992",
     "exception": false,
     "start_time": "2021-02-15T09:18:19.366795",
     "status": "completed"
    },
    "tags": []
   },
   "source": [
    "### Implement Classifier based on Simple Linear Regression"
   ]
  },
  {
   "cell_type": "code",
   "execution_count": 7,
   "metadata": {
    "execution": {
     "iopub.execute_input": "2021-02-15T09:18:19.404873Z",
     "iopub.status.busy": "2021-02-15T09:18:19.403927Z",
     "iopub.status.idle": "2021-02-15T09:18:19.424284Z",
     "shell.execute_reply": "2021-02-15T09:18:19.424810Z"
    },
    "papermill": {
     "duration": 0.035546,
     "end_time": "2021-02-15T09:18:19.424981",
     "exception": false,
     "start_time": "2021-02-15T09:18:19.389435",
     "status": "completed"
    },
    "tags": []
   },
   "outputs": [
    {
     "data": {
      "text/plain": [
       "LinearRegression()"
      ]
     },
     "execution_count": 7,
     "metadata": {},
     "output_type": "execute_result"
    }
   ],
   "source": [
    "from sklearn.linear_model import LinearRegression\n",
    "model = LinearRegression()\n",
    "model.fit(X_train, y_train)"
   ]
  },
  {
   "cell_type": "code",
   "execution_count": 8,
   "metadata": {
    "execution": {
     "iopub.execute_input": "2021-02-15T09:18:19.455264Z",
     "iopub.status.busy": "2021-02-15T09:18:19.454594Z",
     "iopub.status.idle": "2021-02-15T09:18:19.457436Z",
     "shell.execute_reply": "2021-02-15T09:18:19.457921Z"
    },
    "papermill": {
     "duration": 0.021216,
     "end_time": "2021-02-15T09:18:19.458107",
     "exception": false,
     "start_time": "2021-02-15T09:18:19.436891",
     "status": "completed"
    },
    "tags": []
   },
   "outputs": [
    {
     "data": {
      "text/plain": [
       "array([120197.8256403 ,  88644.21802942,  74146.61453254, 118492.2252289 ,\n",
       "        98025.02029212,  72441.01412114,  63913.01206415,  43445.80712736,\n",
       "        64765.81226984, 112522.623789  , 107405.82255481])"
      ]
     },
     "execution_count": 8,
     "metadata": {},
     "output_type": "execute_result"
    }
   ],
   "source": [
    "predictions = model.predict(X_test)\n",
    "predictions"
   ]
  },
  {
   "cell_type": "code",
   "execution_count": 9,
   "metadata": {
    "execution": {
     "iopub.execute_input": "2021-02-15T09:18:19.486189Z",
     "iopub.status.busy": "2021-02-15T09:18:19.485538Z",
     "iopub.status.idle": "2021-02-15T09:18:19.490028Z",
     "shell.execute_reply": "2021-02-15T09:18:19.490593Z"
    },
    "papermill": {
     "duration": 0.020347,
     "end_time": "2021-02-15T09:18:19.490764",
     "exception": false,
     "start_time": "2021-02-15T09:18:19.470417",
     "status": "completed"
    },
    "tags": []
   },
   "outputs": [
    {
     "data": {
      "text/plain": [
       "array([121872,  91738,  66029, 122391, 101302,  67938,  63218,  37731,\n",
       "        55794, 112635, 105582])"
      ]
     },
     "execution_count": 9,
     "metadata": {},
     "output_type": "execute_result"
    }
   ],
   "source": [
    "y_test"
   ]
  },
  {
   "cell_type": "code",
   "execution_count": 10,
   "metadata": {
    "execution": {
     "iopub.execute_input": "2021-02-15T09:18:19.520360Z",
     "iopub.status.busy": "2021-02-15T09:18:19.519743Z",
     "iopub.status.idle": "2021-02-15T09:18:19.914172Z",
     "shell.execute_reply": "2021-02-15T09:18:19.914681Z"
    },
    "papermill": {
     "duration": 0.410256,
     "end_time": "2021-02-15T09:18:19.914855",
     "exception": false,
     "start_time": "2021-02-15T09:18:19.504599",
     "status": "completed"
    },
    "tags": []
   },
   "outputs": [
    {
     "name": "stderr",
     "output_type": "stream",
     "text": [
      "/opt/conda/lib/python3.7/site-packages/seaborn/distributions.py:2557: FutureWarning: `distplot` is a deprecated function and will be removed in a future version. Please adapt your code to use either `displot` (a figure-level function with similar flexibility) or `histplot` (an axes-level function for histograms).\n",
      "  warnings.warn(msg, FutureWarning)\n"
     ]
    },
    {
     "data": {
      "text/plain": [
       "<AxesSubplot:ylabel='Density'>"
      ]
     },
     "execution_count": 10,
     "metadata": {},
     "output_type": "execute_result"
    },
    {
     "data": {
      "image/png": "[encoded data removed]",
      "text/plain": [
       "<Figure size 432x288 with 1 Axes>"
      ]
     },
     "metadata": {
      "needs_background": "light"
     },
     "output_type": "display_data"
    }
   ],
   "source": [
    "import seaborn as sns\n",
    "sns.distplot(predictions-y_test)"
   ]
  },
  {
   "cell_type": "markdown",
   "metadata": {
    "papermill": {
     "duration": 0.014079,
     "end_time": "2021-02-15T09:18:19.943662",
     "exception": false,
     "start_time": "2021-02-15T09:18:19.929583",
     "status": "completed"
    },
    "tags": []
   },
   "source": [
    "### Plotting the Best-fit Linear Regression Graph\n",
    "\n",
    "* Formula for the Linear Regression : Salary = B0 + B1*(Experience)\n",
    "* B0 = intercept => salary when experience is 0, B1 = slope => increase in salary with unit increase in salary"
   ]
  },
  {
   "cell_type": "code",
   "execution_count": 11,
   "metadata": {
    "execution": {
     "iopub.execute_input": "2021-02-15T09:18:20.005465Z",
     "iopub.status.busy": "2021-02-15T09:18:20.004355Z",
     "iopub.status.idle": "2021-02-15T09:18:20.143471Z",
     "shell.execute_reply": "2021-02-15T09:18:20.143951Z"
    },
    "papermill": {
     "duration": 0.185426,
     "end_time": "2021-02-15T09:18:20.144198",
     "exception": false,
     "start_time": "2021-02-15T09:18:19.958772",
     "status": "completed"
    },
    "tags": []
   },
   "outputs": [
    {
     "data": {
      "text/plain": [
       "[<matplotlib.lines.Line2D at 0x7f802a9f1850>]"
      ]
     },
     "execution_count": 11,
     "metadata": {},
     "output_type": "execute_result"
    },
    {
     "data": {
      "image/png": "[encoded data removed]",
      "text/plain": [
       "<Figure size 432x288 with 1 Axes>"
      ]
     },
     "metadata": {
      "needs_background": "light"
     },
     "output_type": "display_data"
    }
   ],
   "source": [
    "plt.scatter(X_train, y_train, color='red')\n",
    "plt.plot(X_train, model.predict(X_train))"
   ]
  }
 ],
 "metadata": {
  "kernelspec": {
   "display_name": "Python 3",
   "language": "python",
   "name": "python3"
  },
  "language_info": {
   "codemirror_mode": {
    "name": "ipython",
    "version": 3
   },
   "file_extension": ".py",
   "mimetype": "text/x-python",
   "name": "python",
   "nbconvert_exporter": "python",
   "pygments_lexer": "ipython3",
   "version": "3.7.9"
  },
  "papermill": {
   "default_parameters": {},
   "duration": 8.765518,
   "end_time": "2021-02-15T09:18:20.769298",
   "environment_variables": {},
   "exception": null,
   "input_path": "__notebook__.ipynb",
   "output_path": "__notebook__.ipynb",
   "parameters": {},
   "start_time": "2021-02-15T09:18:12.003780",
   "version": "2.2.2"
  }
 },
 "nbformat": 4,
 "nbformat_minor": 4
}
