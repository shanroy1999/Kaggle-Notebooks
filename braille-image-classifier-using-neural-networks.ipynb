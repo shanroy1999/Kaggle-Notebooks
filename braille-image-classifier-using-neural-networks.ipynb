{
 "cells": [
  {
   "cell_type": "markdown",
   "metadata": {},
   "source": [
    "# Braille Classifier"
   ]
  },
  {
   "cell_type": "code",
   "execution_count": 1,
   "metadata": {
    "_cell_guid": "79c7e3d0-c299-4dcb-8224-4455121ee9b0",
    "_uuid": "d629ff2d2480ee46fbb7e2d37f6b5fab8052498a"
   },
   "outputs": [],
   "source": [
    "import os\n",
    "import numpy as np\n",
    "import pandas as pd\n",
    "from shutil import copyfile"
   ]
  },
  {
   "cell_type": "code",
   "execution_count": 2,
   "metadata": {},
   "outputs": [],
   "source": [
    "os.mkdir('./images/')\n",
    "alpha = 'a'\n",
    "for i in range(0, 26): \n",
    "    os.mkdir('./images/' + alpha)\n",
    "    alpha = chr(ord(alpha) + 1)\n",
    "\n",
    "rootdir = '/kaggle/input/braille-character-dataset/Braille Dataset/Braille Dataset/'\n",
    "for file in os.listdir(rootdir):\n",
    "    letter = file[0]\n",
    "    copyfile(rootdir+file, './images/' + letter + '/' + file)"
   ]
  },
  {
   "cell_type": "code",
   "execution_count": 3,
   "metadata": {},
   "outputs": [
    {
     "name": "stderr",
     "output_type": "stream",
     "text": [
      "Using TensorFlow backend.\n"
     ]
    },
    {
     "name": "stdout",
     "output_type": "stream",
     "text": [
      "Found 1248 images belonging to 26 classes.\n",
      "Found 312 images belonging to 26 classes.\n"
     ]
    }
   ],
   "source": [
    "from keras.preprocessing.image import ImageDataGenerator\n",
    "datagen = ImageDataGenerator(rotation_range=20,\n",
    "                             shear_range=10,\n",
    "                             validation_split=0.2)\n",
    "\n",
    "train_generator = datagen.flow_from_directory('./images/',\n",
    "                                              target_size=(28,28),\n",
    "                                              subset='training')\n",
    "\n",
    "val_generator = datagen.flow_from_directory('./images/',\n",
    "                                            target_size=(28,28),\n",
    "                                            subset='validation')"
   ]
  },
  {
   "cell_type": "code",
   "execution_count": 4,
   "metadata": {},
   "outputs": [
    {
     "name": "stdout",
     "output_type": "stream",
     "text": [
      "Epoch 1/666\n",
      "39/39 [==============================] - 2s 57ms/step - loss: 3.2874 - accuracy: 0.0385 - val_loss: 3.2778 - val_accuracy: 0.0321\n",
      "Epoch 2/666\n",
      "39/39 [==============================] - 2s 44ms/step - loss: 3.1379 - accuracy: 0.0946 - val_loss: 2.8176 - val_accuracy: 0.1474\n",
      "Epoch 3/666\n",
      "39/39 [==============================] - 2s 45ms/step - loss: 2.7154 - accuracy: 0.1923 - val_loss: 2.3433 - val_accuracy: 0.2885\n",
      "Epoch 4/666\n",
      "39/39 [==============================] - 2s 46ms/step - loss: 2.3037 - accuracy: 0.3133 - val_loss: 1.9517 - val_accuracy: 0.4006\n",
      "Epoch 5/666\n",
      "39/39 [==============================] - 2s 50ms/step - loss: 1.9542 - accuracy: 0.4423 - val_loss: 1.9445 - val_accuracy: 0.4455\n",
      "Epoch 6/666\n",
      "39/39 [==============================] - 2s 45ms/step - loss: 1.6475 - accuracy: 0.5248 - val_loss: 1.3256 - val_accuracy: 0.5513\n",
      "Epoch 7/666\n",
      "39/39 [==============================] - 2s 46ms/step - loss: 1.3303 - accuracy: 0.6138 - val_loss: 0.9939 - val_accuracy: 0.5224\n",
      "Epoch 8/666\n",
      "39/39 [==============================] - 2s 45ms/step - loss: 1.1931 - accuracy: 0.6627 - val_loss: 0.6702 - val_accuracy: 0.7212\n",
      "Epoch 9/666\n",
      "39/39 [==============================] - 2s 46ms/step - loss: 0.9984 - accuracy: 0.7276 - val_loss: 0.7501 - val_accuracy: 0.7340\n",
      "Epoch 10/666\n",
      "39/39 [==============================] - 2s 45ms/step - loss: 0.9036 - accuracy: 0.7380 - val_loss: 0.4778 - val_accuracy: 0.7276\n",
      "Epoch 11/666\n",
      "39/39 [==============================] - 2s 46ms/step - loss: 0.7664 - accuracy: 0.7804 - val_loss: 1.1957 - val_accuracy: 0.7179\n",
      "Epoch 12/666\n",
      "39/39 [==============================] - 2s 44ms/step - loss: 0.7541 - accuracy: 0.7676 - val_loss: 0.8836 - val_accuracy: 0.7500\n",
      "Epoch 13/666\n",
      "39/39 [==============================] - 2s 48ms/step - loss: 0.6752 - accuracy: 0.8061 - val_loss: 1.0500 - val_accuracy: 0.7981\n",
      "Epoch 14/666\n",
      "39/39 [==============================] - 2s 46ms/step - loss: 0.5749 - accuracy: 0.8373 - val_loss: 0.3346 - val_accuracy: 0.8462\n",
      "Epoch 15/666\n",
      "39/39 [==============================] - 2s 45ms/step - loss: 0.5024 - accuracy: 0.8638 - val_loss: 0.3781 - val_accuracy: 0.8494\n",
      "Epoch 16/666\n",
      "39/39 [==============================] - 2s 46ms/step - loss: 0.5187 - accuracy: 0.8550 - val_loss: 0.5342 - val_accuracy: 0.8654\n",
      "Epoch 17/666\n",
      "39/39 [==============================] - 2s 47ms/step - loss: 0.4798 - accuracy: 0.8582 - val_loss: 0.5278 - val_accuracy: 0.8429\n",
      "Epoch 18/666\n",
      "39/39 [==============================] - 2s 47ms/step - loss: 0.4433 - accuracy: 0.8742 - val_loss: 0.3392 - val_accuracy: 0.8333\n",
      "Epoch 19/666\n",
      "39/39 [==============================] - 2s 47ms/step - loss: 0.3969 - accuracy: 0.8854 - val_loss: 0.8663 - val_accuracy: 0.8718\n",
      "Epoch 20/666\n",
      "39/39 [==============================] - 2s 46ms/step - loss: 0.4068 - accuracy: 0.8766 - val_loss: 0.7842 - val_accuracy: 0.8494\n",
      "Epoch 21/666\n",
      "39/39 [==============================] - 2s 45ms/step - loss: 0.3443 - accuracy: 0.9006 - val_loss: 0.1180 - val_accuracy: 0.8846\n",
      "Epoch 22/666\n",
      "39/39 [==============================] - 2s 51ms/step - loss: 0.3593 - accuracy: 0.8998 - val_loss: 0.4229 - val_accuracy: 0.8397\n",
      "Epoch 23/666\n",
      "39/39 [==============================] - 2s 45ms/step - loss: 0.3796 - accuracy: 0.8902 - val_loss: 0.6157 - val_accuracy: 0.8654\n",
      "Epoch 24/666\n",
      "39/39 [==============================] - 2s 45ms/step - loss: 0.3232 - accuracy: 0.9143 - val_loss: 0.4889 - val_accuracy: 0.9103\n",
      "Epoch 25/666\n",
      "39/39 [==============================] - 2s 46ms/step - loss: 0.3126 - accuracy: 0.9167 - val_loss: 0.2310 - val_accuracy: 0.8782\n",
      "Epoch 26/666\n",
      "39/39 [==============================] - 2s 47ms/step - loss: 0.2683 - accuracy: 0.9271 - val_loss: 0.3077 - val_accuracy: 0.9038\n",
      "Epoch 27/666\n",
      "39/39 [==============================] - 2s 46ms/step - loss: 0.3313 - accuracy: 0.9006 - val_loss: 0.2357 - val_accuracy: 0.9006\n",
      "Epoch 28/666\n",
      "39/39 [==============================] - 2s 45ms/step - loss: 0.2910 - accuracy: 0.9231 - val_loss: 0.1498 - val_accuracy: 0.9135\n",
      "Epoch 29/666\n",
      "39/39 [==============================] - 2s 45ms/step - loss: 0.4013 - accuracy: 0.8806 - val_loss: 0.1896 - val_accuracy: 0.8205\n",
      "Epoch 30/666\n",
      "39/39 [==============================] - 2s 46ms/step - loss: 0.2572 - accuracy: 0.9295 - val_loss: 0.3036 - val_accuracy: 0.9135\n",
      "Epoch 31/666\n",
      "39/39 [==============================] - 2s 47ms/step - loss: 0.1578 - accuracy: 0.9639 - val_loss: 0.4686 - val_accuracy: 0.9295\n",
      "Epoch 32/666\n",
      "39/39 [==============================] - 2s 45ms/step - loss: 0.1550 - accuracy: 0.9623 - val_loss: 0.0785 - val_accuracy: 0.9359\n",
      "Epoch 33/666\n",
      "39/39 [==============================] - 2s 45ms/step - loss: 0.1767 - accuracy: 0.9567 - val_loss: 0.4845 - val_accuracy: 0.9103\n",
      "Epoch 34/666\n",
      "39/39 [==============================] - 2s 45ms/step - loss: 0.1510 - accuracy: 0.9728 - val_loss: 0.2299 - val_accuracy: 0.9391\n",
      "Epoch 35/666\n",
      "39/39 [==============================] - 2s 45ms/step - loss: 0.1440 - accuracy: 0.9720 - val_loss: 0.3929 - val_accuracy: 0.9135\n",
      "Epoch 36/666\n",
      "39/39 [==============================] - 2s 45ms/step - loss: 0.1432 - accuracy: 0.9688 - val_loss: 0.3204 - val_accuracy: 0.9199\n",
      "Epoch 37/666\n",
      "39/39 [==============================] - 2s 44ms/step - loss: 0.1329 - accuracy: 0.9768 - val_loss: 0.0841 - val_accuracy: 0.9487\n",
      "Epoch 38/666\n",
      "39/39 [==============================] - 2s 46ms/step - loss: 0.1569 - accuracy: 0.9671 - val_loss: 0.3527 - val_accuracy: 0.9231\n",
      "Epoch 39/666\n",
      "39/39 [==============================] - 2s 45ms/step - loss: 0.1354 - accuracy: 0.9704 - val_loss: 0.2701 - val_accuracy: 0.9295\n",
      "Epoch 40/666\n",
      "39/39 [==============================] - 2s 51ms/step - loss: 0.1175 - accuracy: 0.9736 - val_loss: 0.0807 - val_accuracy: 0.9423\n",
      "Epoch 41/666\n",
      "39/39 [==============================] - 2s 46ms/step - loss: 0.1125 - accuracy: 0.9808 - val_loss: 0.3393 - val_accuracy: 0.9295\n",
      "Epoch 42/666\n",
      "39/39 [==============================] - 2s 45ms/step - loss: 0.1146 - accuracy: 0.9768 - val_loss: 0.1216 - val_accuracy: 0.9103\n",
      "Epoch 43/666\n",
      "39/39 [==============================] - 2s 48ms/step - loss: 0.1198 - accuracy: 0.9776 - val_loss: 0.1410 - val_accuracy: 0.9391\n",
      "Epoch 44/666\n",
      "39/39 [==============================] - 2s 50ms/step - loss: 0.1216 - accuracy: 0.9760 - val_loss: 0.3157 - val_accuracy: 0.9359\n",
      "Epoch 45/666\n",
      "39/39 [==============================] - 2s 47ms/step - loss: 0.1213 - accuracy: 0.9776 - val_loss: 0.1215 - val_accuracy: 0.9135\n",
      "Epoch 46/666\n",
      "39/39 [==============================] - 2s 45ms/step - loss: 0.1206 - accuracy: 0.9768 - val_loss: 0.1800 - val_accuracy: 0.9487\n",
      "Epoch 47/666\n",
      "39/39 [==============================] - 2s 45ms/step - loss: 0.1260 - accuracy: 0.9744 - val_loss: 0.3377 - val_accuracy: 0.9391\n",
      "Epoch 00047: early stopping\n"
     ]
    }
   ],
   "source": [
    "from keras import backend as K\n",
    "from keras import layers as L\n",
    "from keras.models import Model,load_model\n",
    "from keras.regularizers import l2\n",
    "from keras.callbacks import ModelCheckpoint,ReduceLROnPlateau,EarlyStopping\n",
    "\n",
    "K.clear_session()\n",
    "\n",
    "model_ckpt = ModelCheckpoint('BrailleNet.h5',save_best_only=True)\n",
    "reduce_lr = ReduceLROnPlateau(patience=8,verbose=0)\n",
    "early_stop = EarlyStopping(patience=15,verbose=1)\n",
    "\n",
    "entry = L.Input(shape=(28,28,3))\n",
    "x = L.SeparableConv2D(64,(3,3),activation='relu')(entry)\n",
    "x = L.MaxPooling2D((2,2))(x)\n",
    "x = L.SeparableConv2D(128,(3,3),activation='relu')(x)\n",
    "x = L.MaxPooling2D((2,2))(x)\n",
    "x = L.SeparableConv2D(256,(2,2),activation='relu')(x)\n",
    "x = L.GlobalMaxPooling2D()(x)\n",
    "x = L.Dense(256)(x)\n",
    "x = L.LeakyReLU()(x)\n",
    "x = L.Dense(64,kernel_regularizer=l2(2e-4))(x)\n",
    "x = L.LeakyReLU()(x)\n",
    "x = L.Dense(26,activation='softmax')(x)\n",
    "\n",
    "model = Model(entry,x)\n",
    "model.compile(loss='categorical_crossentropy',optimizer='adam',metrics=['accuracy'])\n",
    "\n",
    "history = model.fit_generator(train_generator,\n",
    "                              validation_data=val_generator,\n",
    "                              epochs=666,\n",
    "                              callbacks=[model_ckpt,reduce_lr,early_stop],\n",
    "                              verbose=1)"
   ]
  },
  {
   "cell_type": "code",
   "execution_count": 5,
   "metadata": {},
   "outputs": [
    {
     "name": "stdout",
     "output_type": "stream",
     "text": [
      "Model: \"model_1\"\n",
      "_________________________________________________________________\n",
      "Layer (type)                 Output Shape              Param #   \n",
      "=================================================================\n",
      "input_1 (InputLayer)         (None, 28, 28, 3)         0         \n",
      "_________________________________________________________________\n",
      "separable_conv2d_1 (Separabl (None, 26, 26, 64)        283       \n",
      "_________________________________________________________________\n",
      "max_pooling2d_1 (MaxPooling2 (None, 13, 13, 64)        0         \n",
      "_________________________________________________________________\n",
      "separable_conv2d_2 (Separabl (None, 11, 11, 128)       8896      \n",
      "_________________________________________________________________\n",
      "max_pooling2d_2 (MaxPooling2 (None, 5, 5, 128)         0         \n",
      "_________________________________________________________________\n",
      "separable_conv2d_3 (Separabl (None, 4, 4, 256)         33536     \n",
      "_________________________________________________________________\n",
      "global_max_pooling2d_1 (Glob (None, 256)               0         \n",
      "_________________________________________________________________\n",
      "dense_1 (Dense)              (None, 256)               65792     \n",
      "_________________________________________________________________\n",
      "leaky_re_lu_1 (LeakyReLU)    (None, 256)               0         \n",
      "_________________________________________________________________\n",
      "dense_2 (Dense)              (None, 64)                16448     \n",
      "_________________________________________________________________\n",
      "leaky_re_lu_2 (LeakyReLU)    (None, 64)                0         \n",
      "_________________________________________________________________\n",
      "dense_3 (Dense)              (None, 26)                1690      \n",
      "=================================================================\n",
      "Total params: 126,645\n",
      "Trainable params: 126,645\n",
      "Non-trainable params: 0\n",
      "_________________________________________________________________\n"
     ]
    }
   ],
   "source": [
    "model.summary()"
   ]
  },
  {
   "cell_type": "code",
   "execution_count": 6,
   "metadata": {},
   "outputs": [
    {
     "name": "stdout",
     "output_type": "stream",
     "text": [
      "model accuracy: 0.9135\n"
     ]
    }
   ],
   "source": [
    "model = load_model('BrailleNet.h5')\n",
    "acc = model.evaluate_generator(val_generator)[1]\n",
    "print('model accuracy: {}'.format(round(acc,4)))"
   ]
  },
  {
   "cell_type": "code",
   "execution_count": 7,
   "metadata": {},
   "outputs": [
    {
     "data": {
      "image/png": "[encoded data removed]",
      "text/plain": [
       "<Figure size 432x288 with 1 Axes>"
      ]
     },
     "metadata": {
      "needs_background": "light"
     },
     "output_type": "display_data"
    },
    {
     "data": {
      "image/png": "[encoded data removed]",
      "text/plain": [
       "<Figure size 432x288 with 1 Axes>"
      ]
     },
     "metadata": {
      "needs_background": "light"
     },
     "output_type": "display_data"
    },
    {
     "data": {
      "text/plain": [
       "<Figure size 432x288 with 0 Axes>"
      ]
     },
     "metadata": {},
     "output_type": "display_data"
    }
   ],
   "source": [
    "import matplotlib.pyplot as plt\n",
    "plt.plot(history.history['loss'], label='train loss')\n",
    "plt.plot(history.history['val_loss'], label='val loss')\n",
    "plt.legend()\n",
    "plt.show()\n",
    "plt.savefig('LossVal_loss')\n",
    "\n",
    "# plot the accuracy\n",
    "plt.plot(history.history['accuracy'], label='train acc')\n",
    "plt.plot(history.history['val_accuracy'], label='val acc')\n",
    "plt.legend()\n",
    "plt.show()\n",
    "plt.savefig('AccVal_acc')"
   ]
  },
  {
   "cell_type": "code",
   "execution_count": 8,
   "metadata": {},
   "outputs": [
    {
     "data": {
      "text/plain": [
       "array([[4.7982883e-04, 9.9891257e-01, 2.2676026e-05, ..., 2.9297472e-15,\n",
       "        1.2159501e-22, 2.1791890e-15],\n",
       "       [1.3157390e-06, 9.9910384e-01, 3.2224700e-05, ..., 2.2147057e-24,\n",
       "        2.3095888e-32, 2.2317676e-18],\n",
       "       [2.1670423e-13, 1.2733711e-15, 6.1157036e-13, ..., 1.1408425e-10,\n",
       "        3.4505421e-09, 7.4302280e-01],\n",
       "       ...,\n",
       "       [5.7642430e-04, 2.8982301e-08, 1.6344032e-04, ..., 8.6076972e-11,\n",
       "        3.0039703e-17, 4.0238839e-09],\n",
       "       [7.3478716e-09, 3.3912983e-14, 3.8439812e-10, ..., 3.0756341e-06,\n",
       "        5.1551445e-12, 2.1121812e-03],\n",
       "       [5.4883645e-03, 1.0232915e-03, 7.9360016e-02, ..., 2.1101062e-03,\n",
       "        2.5700984e-04, 5.6760993e-02]], dtype=float32)"
      ]
     },
     "execution_count": 8,
     "metadata": {},
     "output_type": "execute_result"
    }
   ],
   "source": [
    "pred = model.predict(val_generator)\n",
    "pred"
   ]
  },
  {
   "cell_type": "code",
   "execution_count": 9,
   "metadata": {},
   "outputs": [],
   "source": [
    "from tensorflow.keras.preprocessing import image\n",
    "img=image.load_img('/kaggle/input/braille-character-dataset/Braille Dataset/Braille Dataset/a1.JPG0dim.jpg')"
   ]
  },
  {
   "cell_type": "code",
   "execution_count": 10,
   "metadata": {},
   "outputs": [
    {
     "data": {
      "text/plain": [
       "<matplotlib.image.AxesImage at 0x7f9aa4352208>"
      ]
     },
     "execution_count": 10,
     "metadata": {},
     "output_type": "execute_result"
    },
    {
     "data": {
      "image/png": "[encoded data removed]",
      "text/plain": [
       "<Figure size 432x288 with 1 Axes>"
      ]
     },
     "metadata": {
      "needs_background": "light"
     },
     "output_type": "display_data"
    }
   ],
   "source": [
    "plt.imshow(img)"
   ]
  },
  {
   "cell_type": "code",
   "execution_count": 11,
   "metadata": {},
   "outputs": [
    {
     "data": {
      "text/plain": [
       "array([[[194., 194., 194.],\n",
       "        [204., 204., 204.],\n",
       "        [206., 206., 206.],\n",
       "        ...,\n",
       "        [196., 196., 196.],\n",
       "        [196., 196., 196.],\n",
       "        [196., 196., 196.]],\n",
       "\n",
       "       [[193., 193., 193.],\n",
       "        [177., 177., 177.],\n",
       "        [188., 188., 188.],\n",
       "        ...,\n",
       "        [196., 196., 196.],\n",
       "        [196., 196., 196.],\n",
       "        [196., 196., 196.]],\n",
       "\n",
       "       [[199., 199., 199.],\n",
       "        [203., 203., 203.],\n",
       "        [195., 195., 195.],\n",
       "        ...,\n",
       "        [196., 196., 196.],\n",
       "        [196., 196., 196.],\n",
       "        [196., 196., 196.]],\n",
       "\n",
       "       ...,\n",
       "\n",
       "       [[196., 196., 196.],\n",
       "        [197., 197., 197.],\n",
       "        [195., 195., 195.],\n",
       "        ...,\n",
       "        [196., 196., 196.],\n",
       "        [196., 196., 196.],\n",
       "        [196., 196., 196.]],\n",
       "\n",
       "       [[197., 197., 197.],\n",
       "        [198., 198., 198.],\n",
       "        [198., 198., 198.],\n",
       "        ...,\n",
       "        [196., 196., 196.],\n",
       "        [196., 196., 196.],\n",
       "        [196., 196., 196.]],\n",
       "\n",
       "       [[194., 194., 194.],\n",
       "        [196., 196., 196.],\n",
       "        [197., 197., 197.],\n",
       "        ...,\n",
       "        [196., 196., 196.],\n",
       "        [196., 196., 196.],\n",
       "        [196., 196., 196.]]], dtype=float32)"
      ]
     },
     "execution_count": 11,
     "metadata": {},
     "output_type": "execute_result"
    }
   ],
   "source": [
    "x=image.img_to_array(img)\n",
    "x"
   ]
  },
  {
   "cell_type": "code",
   "execution_count": 12,
   "metadata": {},
   "outputs": [
    {
     "data": {
      "text/plain": [
       "(28, 28, 3)"
      ]
     },
     "execution_count": 12,
     "metadata": {},
     "output_type": "execute_result"
    }
   ],
   "source": [
    "x.shape"
   ]
  },
  {
   "cell_type": "code",
   "execution_count": 13,
   "metadata": {},
   "outputs": [
    {
     "data": {
      "text/plain": [
       "array([[9.7944242e-01, 4.6658562e-03, 5.7882904e-03, 9.3069154e-08,\n",
       "        5.6737017e-06, 7.5449054e-07, 5.0000953e-10, 1.1227711e-08,\n",
       "        7.1223134e-05, 8.3875649e-11, 9.4290012e-03, 1.9990798e-08,\n",
       "        2.0487585e-09, 8.0050819e-09, 3.0875472e-07, 8.6961421e-07,\n",
       "        2.4091770e-11, 3.0740864e-08, 5.6787196e-04, 2.4450608e-13,\n",
       "        2.7607106e-05, 4.8362741e-11, 2.9950623e-15, 1.8122639e-08,\n",
       "        1.0624439e-13, 1.0066888e-09]], dtype=float32)"
      ]
     },
     "execution_count": 13,
     "metadata": {},
     "output_type": "execute_result"
    }
   ],
   "source": [
    "x=np.expand_dims(x,axis=0)\n",
    "model.predict(x)"
   ]
  },
  {
   "cell_type": "code",
   "execution_count": 14,
   "metadata": {},
   "outputs": [
    {
     "data": {
      "text/plain": [
       "array([0])"
      ]
     },
     "execution_count": 14,
     "metadata": {},
     "output_type": "execute_result"
    }
   ],
   "source": [
    "a=np.argmax(model.predict(x), axis=1)\n",
    "a"
   ]
  }
 ],
 "metadata": {
  "kernelspec": {
   "display_name": "Python 3",
   "language": "python",
   "name": "python3"
  },
  "language_info": {
   "codemirror_mode": {
    "name": "ipython",
    "version": 3
   },
   "file_extension": ".py",
   "mimetype": "text/x-python",
   "name": "python",
   "nbconvert_exporter": "python",
   "pygments_lexer": "ipython3",
   "version": "3.6.6"
  }
 },
 "nbformat": 4,
 "nbformat_minor": 4
}
